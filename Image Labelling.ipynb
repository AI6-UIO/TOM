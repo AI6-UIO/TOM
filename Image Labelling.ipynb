{
 "cells": [
  {
   "cell_type": "code",
   "execution_count": 1,
   "id": "5dff3fa3",
   "metadata": {},
   "outputs": [
    {
     "name": "stdout",
     "output_type": "stream",
     "text": [
      "Requirement already satisfied: pyqt5 in c:\\users\\ronpa\\.conda\\envs\\updatednotebook\\lib\\site-packages (5.15.4)\n",
      "Requirement already satisfied: lxml in c:\\users\\ronpa\\.conda\\envs\\updatednotebook\\lib\\site-packages (4.6.3)\n",
      "Requirement already satisfied: PyQt5-Qt5>=5.15 in c:\\users\\ronpa\\.conda\\envs\\updatednotebook\\lib\\site-packages (from pyqt5) (5.15.2)\n",
      "Requirement already satisfied: PyQt5-sip<13,>=12.8 in c:\\users\\ronpa\\.conda\\envs\\updatednotebook\\lib\\site-packages (from pyqt5) (12.9.0)\n",
      "Note: you may need to restart the kernel to use updated packages.\n"
     ]
    }
   ],
   "source": [
    "pip install --upgrade pyqt5 lxml"
   ]
  },
  {
   "cell_type": "code",
   "execution_count": 1,
   "id": "0a51b856",
   "metadata": {},
   "outputs": [],
   "source": [
    "# Import Operating System\n",
    "import os\n",
    "\n",
    "# Import time\n",
    "import time"
   ]
  },
  {
   "cell_type": "code",
   "execution_count": 2,
   "id": "b2cebfeb",
   "metadata": {},
   "outputs": [],
   "source": [
    "LABELIMG_PATH = os.path.join('Tensorflow', 'labelimg') # Carpetas donde está el .py"
   ]
  },
  {
   "cell_type": "code",
   "execution_count": 3,
   "id": "4d31f846",
   "metadata": {},
   "outputs": [],
   "source": [
    "if not os.path.exists(LABELIMG_PATH):\n",
    "    !mkdir {LABELIMG_PATH}\n",
    "    !git clone https://github.com/tzutalin/labelImg {LABELIMG_PATH}"
   ]
  },
  {
   "cell_type": "code",
   "execution_count": 4,
   "id": "bff7df69",
   "metadata": {},
   "outputs": [],
   "source": [
    "# Installation\n",
    "if os.name == 'posix':\n",
    "    !make qt5py3\n",
    "if os.name =='nt':\n",
    "    !cd {LABELIMG_PATH} && pyrcc5 -o libs/resources.py resources.qrc"
   ]
  },
  {
   "cell_type": "code",
   "execution_count": 5,
   "id": "b7e90b20",
   "metadata": {
    "scrolled": true
   },
   "outputs": [],
   "source": [
    "# Open Labelimg package\n",
    "!cd {LABELIMG_PATH} && python labelImg.py"
   ]
  },
  {
   "cell_type": "code",
   "execution_count": null,
   "id": "233d19cd",
   "metadata": {},
   "outputs": [],
   "source": [
    "# Divide dataset\n",
    "TRAIN_PATH = os.path.join('Tensorflow', 'workspace', 'images', 'train')\n",
    "TEST_PATH = os.path.join('Tensorflow', 'workspace', 'images', 'test')\n",
    "ARCHIVE_PATH = os.path.join('Tensorflow', 'workspace', 'images', 'archive.tar.gz')"
   ]
  },
  {
   "cell_type": "code",
   "execution_count": null,
   "id": "5d4840db",
   "metadata": {},
   "outputs": [],
   "source": [
    "!tar -czf {ARCHIVE_PATH} {TRAIN_PATH} {TEST_PATH}"
   ]
  }
 ],
 "metadata": {
  "kernelspec": {
   "display_name": "Python 3",
   "language": "python",
   "name": "python3"
  },
  "language_info": {
   "codemirror_mode": {
    "name": "ipython",
    "version": 3
   },
   "file_extension": ".py",
   "mimetype": "text/x-python",
   "name": "python",
   "nbconvert_exporter": "python",
   "pygments_lexer": "ipython3",
   "version": "3.9.5"
  }
 },
 "nbformat": 4,
 "nbformat_minor": 5
}
